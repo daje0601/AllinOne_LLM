{
 "cells": [
  {
   "cell_type": "code",
   "execution_count": 9,
   "id": "849b3355-594f-4c71-b60f-914c13c7f240",
   "metadata": {
    "scrolled": true
   },
   "outputs": [
    {
     "name": "stdout",
     "output_type": "stream",
     "text": [
      "Completion result: Completion(id='cmpl-ac559ec8486f48febaeccfb8c09d8b2c', choices=[CompletionChoice(finish_reason='length', index=0, logprobs=None, text='<|eot_id|><|start_header_id|>assistant<|end_header_id|>\\n\\n그러셨군요. 어떤 일로 힘드셨나요?<|eot_id|><|start_header_id|>user<|end_header_id|>\\n\\n회사일 때문에 정말 지쳐서요. 회사일 때문에 밤에도 잠을 못 자고, 정말로 내가 이 회사에서 어떻게 살아', stop_reason=None, prompt_logprobs=None)], created=1726320510, model='allganize/Llama-3-Alpha-Ko-8B-Instruct', object='text_completion', system_fingerprint=None, usage=CompletionUsage(completion_tokens=50, prompt_tokens=8, total_tokens=58, completion_tokens_details=None))\n"
     ]
    }
   ],
   "source": [
    "from openai import OpenAI\n",
    "\n",
    "model_id = \"allganize/Llama-3-Alpha-Ko-8B-Instruct\"\n",
    "\n",
    "# Modify OpenAI's API key and API base to use vLLM's API server.\n",
    "openai_api_key = \"EMPTY\"\n",
    "openai_api_base = \"http://localhost:8000/v1\"\n",
    "client = OpenAI(\n",
    "    api_key=openai_api_key,\n",
    "    base_url=openai_api_base,\n",
    ")\n",
    "\n",
    "prompts = [\n",
    "    \"오늘 너무 힘들어요!\",\n",
    "]\n",
    "\n",
    "completion = client.completions.create(model=\"lora_adapter1\",\n",
    "                                       prompt=prompts, \n",
    "                                       temperature=0.7, \n",
    "                                       top_p=0.9, \n",
    "                                       max_tokens=50)\n",
    "print(\"Completion result:\", completion)\n"
   ]
  },
  {
   "cell_type": "code",
   "execution_count": 10,
   "id": "02c0a59f-7c86-4330-8917-9b8e345286cc",
   "metadata": {},
   "outputs": [
    {
     "name": "stdout",
     "output_type": "stream",
     "text": [
      "Chat completion result: 네, 어떤 일이 있었나요?\n"
     ]
    }
   ],
   "source": [
    "messages = [\n",
    "    {\"role\": \"user\", \"content\": \"오늘 너무 힘든 하루였어요 ㅠㅠ\"}\n",
    "]\n",
    "\n",
    "chat_completion = client.chat.completions.create(\n",
    "    model=\"lora_adapter1\",\n",
    "    messages=messages,\n",
    "    temperature=0.7,\n",
    "    top_p=0.9,\n",
    "    max_tokens=500,\n",
    "    stop=[\"<|eot_id|>\", \"Human:\", \"Assistant:\"] \n",
    ")\n",
    "\n",
    "print(\"Chat completion result:\", chat_completion.choices[0].message.content)\n",
    "\n"
   ]
  },
  {
   "cell_type": "code",
   "execution_count": 12,
   "id": "6e7c72a9-01f1-45d4-a20f-917badc50816",
   "metadata": {},
   "outputs": [
    {
     "name": "stdout",
     "output_type": "stream",
     "text": [
      "Chat completion result: SELECT \"Points\" FROM table_11482 WHERE \"Chassis\" = 'tf103'\n"
     ]
    }
   ],
   "source": [
    "messages = [\n",
    "    {\"role\": \"user\", \"content\": 'Task: tf103 차대의 총 포인트 수를 알려주세요.\\nSQL table: CREATE TABLE table_11482 (\\n    \"Year\" real,\\n    \"Chassis\" text,\\n    \"Engine\" text,\\n    \"Tyres\" text,\\n    \"Points\" real\\n)\\nSQL query: '}\n",
    "]\n",
    "\n",
    "sql_chat_completion = client.chat.completions.create(\n",
    "    model=\"lora_adapter2\",\n",
    "    messages=messages,\n",
    "    temperature=0.0,\n",
    "    max_tokens=500,\n",
    "    stop=[\";\\n\", \"-- \"]  # SQL 쿼리에 적합한 stop token을 추가합니다\n",
    ")\n",
    "\n",
    "print(\"Chat completion result:\", sql_chat_completion.choices[0].message.content)"
   ]
  },
  {
   "cell_type": "code",
   "execution_count": null,
   "id": "7e1b0345-3b4e-4f12-bfc6-c647cbd251fb",
   "metadata": {},
   "outputs": [],
   "source": []
  }
 ],
 "metadata": {
  "kernelspec": {
   "display_name": "Python 3 (ipykernel)",
   "language": "python",
   "name": "python3"
  },
  "language_info": {
   "codemirror_mode": {
    "name": "ipython",
    "version": 3
   },
   "file_extension": ".py",
   "mimetype": "text/x-python",
   "name": "python",
   "nbconvert_exporter": "python",
   "pygments_lexer": "ipython3",
   "version": "3.11.9"
  }
 },
 "nbformat": 4,
 "nbformat_minor": 5
}
