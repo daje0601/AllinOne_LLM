{
  "cells": [
    {
      "cell_type": "code",
      "execution_count": null,
      "metadata": {
        "id": "4qIqe_4r0TUc"
      },
      "outputs": [],
      "source": [
        "%%capture\n",
        "!pip install openai vllm"
      ]
    },
    {
      "cell_type": "code",
      "execution_count": null,
      "metadata": {
        "colab": {
          "base_uri": "https://localhost:8080/",
          "height": 353,
          "referenced_widgets": [
            "540f58772ebc4067b95aff0869daf87e",
            "78b4760434ac4e0cafd2d6f0b2db5e7c",
            "65c9c6465fc44f84b50c62bd57fe7cd1",
            "d981fdbb6e8747c99b6925eb2e17eff5",
            "a10b8764ba454edf8d15253c9f85885c",
            "ca25f4df7e724be9bd594664c9282336",
            "8bed8991af4847ac835871b4e9c0502a",
            "fb6c3ad5518f4d47882f79b223e5aac9",
            "84c877893220462f8e6635517c8cee05",
            "9a629bba7ff444f78eee559bff2580a7",
            "c2f3111132d94e0aa2d7cf32398bfb8f"
          ]
        },
        "id": "YRu3jRkuAlHo",
        "outputId": "95467528-8903-4725-b975-08d720209b70"
      },
      "outputs": [
        {
          "name": "stderr",
          "output_type": "stream",
          "text": [
            "/usr/local/lib/python3.10/dist-packages/huggingface_hub/utils/_token.py:89: UserWarning: \n",
            "The secret `HF_TOKEN` does not exist in your Colab secrets.\n",
            "To authenticate with the Hugging Face Hub, create a token in your settings tab (https://huggingface.co/settings/tokens), set it as secret in your Google Colab and restart your session.\n",
            "You will be able to reuse this secret in all of your notebooks.\n",
            "Please note that authentication is recommended but still optional to access public models or datasets.\n",
            "  warnings.warn(\n"
          ]
        },
        {
          "name": "stdout",
          "output_type": "stream",
          "text": [
            "WARNING 08-15 08:23:20 arg_utils.py:766] Chunked prefill is enabled by default for models with max_model_len > 32K. Currently, chunked prefill might not work with some features or models. If you encounter any issues, please disable chunked prefill by setting --enable-chunked-prefill=False.\n",
            "INFO 08-15 08:23:20 config.py:820] Chunked prefill is enabled with max_num_batched_tokens=512.\n",
            "INFO 08-15 08:23:20 llm_engine.py:174] Initializing an LLM engine (v0.5.4) with config: model='daje/meta-llama3.1-8B-qna-koalpaca-v1.1', speculative_config=None, tokenizer='daje/meta-llama3.1-8B-qna-koalpaca-v1.1', skip_tokenizer_init=False, tokenizer_mode=auto, revision=None, rope_scaling=None, rope_theta=None, tokenizer_revision=None, trust_remote_code=False, dtype=torch.bfloat16, max_seq_len=131072, download_dir=None, load_format=LoadFormat.AUTO, tensor_parallel_size=1, pipeline_parallel_size=1, disable_custom_all_reduce=False, quantization=None, enforce_eager=False, kv_cache_dtype=auto, quantization_param_path=None, device_config=cuda, decoding_config=DecodingConfig(guided_decoding_backend='outlines'), observability_config=ObservabilityConfig(otlp_traces_endpoint=None), seed=0, served_model_name=daje/meta-llama3.1-8B-qna-koalpaca-v1.1, use_v2_block_manager=False, enable_prefix_caching=False)\n",
            "INFO 08-15 08:23:21 model_runner.py:720] Starting to load model daje/meta-llama3.1-8B-qna-koalpaca-v1.1...\n",
            "INFO 08-15 08:23:21 weight_utils.py:225] Using model weights format ['*.safetensors']\n"
          ]
        },
        {
          "data": {
            "application/vnd.jupyter.widget-view+json": {
              "model_id": "540f58772ebc4067b95aff0869daf87e",
              "version_major": 2,
              "version_minor": 0
            },
            "text/plain": [
              "Loading safetensors checkpoint shards:   0% Completed | 0/4 [00:00<?, ?it/s]\n"
            ]
          },
          "metadata": {},
          "output_type": "display_data"
        },
        {
          "name": "stdout",
          "output_type": "stream",
          "text": [
            "INFO 08-15 08:23:28 model_runner.py:732] Loading model weights took 14.9888 GB\n",
            "INFO 08-15 08:23:29 gpu_executor.py:102] # GPU blocks: 9997, # CPU blocks: 2048\n",
            "INFO 08-15 08:23:31 model_runner.py:1024] Capturing the model for CUDA graphs. This may lead to unexpected consequences if the model is not static. To run the model in eager mode, set 'enforce_eager=True' or use '--enforce-eager' in the CLI.\n",
            "INFO 08-15 08:23:31 model_runner.py:1028] CUDA graphs can take additional 1~3 GiB memory per GPU. If you are running out of memory, consider decreasing `gpu_memory_utilization` or enforcing eager mode. You can also reduce the `max_num_seqs` as needed to decrease memory usage.\n",
            "INFO 08-15 08:23:47 model_runner.py:1225] Graph capturing finished in 16 secs.\n"
          ]
        }
      ],
      "source": [
        "import openai\n",
        "from vllm import LLM, SamplingParams\n",
        "import huggingface_hub\n",
        "\n",
        "huggingface_hub.login(token=\"Your_Huggingface_Token\")\n",
        "\n",
        "llm = LLM(model=\"daje/meta-llama3.1-8B-qna-koalpaca-v1.1\")"
      ]
    },
    {
      "cell_type": "code",
      "execution_count": null,
      "metadata": {
        "colab": {
          "base_uri": "https://localhost:8080/"
        },
        "id": "hpGAeG0KGWsK",
        "outputId": "9bbd761d-0751-46bf-d895-c9d7c2de77d9"
      },
      "outputs": [
        {
          "name": "stderr",
          "output_type": "stream",
          "text": [
            "Processed prompts: 100%|██████████| 4/4 [00:00<00:00, 10.73it/s, est. speed input: 67.07 toks/s, output: 203.90 toks/s]\n"
          ]
        }
      ],
      "source": [
        "prompts = [\n",
        "    \"안녕 내 이름은\",\n",
        "    \"한국의 대통령은 \",\n",
        "    \"대한민국의 수도는 현재\",\n",
        "    \"AI의 미래는\",\n",
        "]\n",
        "sampling_params = SamplingParams(temperature=0.9, top_p=0.95, max_tokens=20)\n",
        "outputs = llm.generate(prompts, sampling_params)\n"
      ]
    },
    {
      "cell_type": "code",
      "execution_count": null,
      "metadata": {
        "colab": {
          "base_uri": "https://localhost:8080/"
        },
        "id": "rjwO-Li4CHLk",
        "outputId": "c5528968-2476-4732-b769-cabae55e4336"
      },
      "outputs": [
        {
          "name": "stdout",
          "output_type": "stream",
          "text": [
            "Prompt: '안녕 내 이름은', Generated text: ' 이혜영입니다. 제가 오늘 첫 블로그를 작성하는데,예전 TV에서'\n",
            "Prompt: '한국의 대통령은 ', Generated text: '5년마다 선거를 하지만, 임기를 중도에서 조기 폐지할 수도 있습니다.'\n",
            "Prompt: '대한민국의 수도는 현재', Generated text: ' 서울인데, 이전에 다른 지역에서 수도가 배정되었던 적이 있나요? 그렇'\n",
            "Prompt: 'AI의 미래는', Generated text: ' 어떻게 될까요? 인류에게 미치는 영향은 무엇인가요?'\n"
          ]
        }
      ],
      "source": [
        "for output in outputs:\n",
        "    prompt = output.prompt\n",
        "    generated_text = output.outputs[0].text\n",
        "    print(f\"Prompt: {prompt!r}, Generated text: {generated_text!r}\")"
      ]
    },
    {
      "cell_type": "code",
      "execution_count": null,
      "metadata": {
        "colab": {
          "base_uri": "https://localhost:8080/",
          "height": 53
        },
        "id": "DL3eBlxDKi96",
        "outputId": "af0e1c57-ce61-4a9b-b812-9fd95b260803"
      },
      "outputs": [
        {
          "name": "stderr",
          "output_type": "stream",
          "text": [
            "Processed prompts: 100%|██████████| 1/1 [00:00<00:00,  6.21it/s, est. speed input: 81.33 toks/s, output: 62.55 toks/s]\n"
          ]
        },
        {
          "data": {
            "application/vnd.google.colaboratory.intrinsic+json": {
              "type": "string"
            },
            "text/plain": [
              "' 10개의 요리를 추천해주세요.'"
            ]
          },
          "execution_count": 31,
          "metadata": {},
          "output_type": "execute_result"
        }
      ],
      "source": [
        "outputs = llm.generate(\"한국에서 유명한 음식은 무엇인가요?\")\n",
        "outputs[0].outputs[0].text"
      ]
    },
    {
      "cell_type": "code",
      "execution_count": null,
      "metadata": {
        "colab": {
          "base_uri": "https://localhost:8080/",
          "height": 53
        },
        "id": "mDH13-D55PIm",
        "outputId": "7f0fc84b-5818-4845-d610-60839224881f"
      },
      "outputs": [
        {
          "data": {
            "application/vnd.google.colaboratory.intrinsic+json": {
              "type": "string"
            },
            "text/plain": [
              "'2021년 현재 대한민국의 수도는 서울입니다. 하지만 수도 결정은 국회에서 이루어지며, 국회에서 서울을 수도로 선정한 것은 행정편의상 선정된 것이었습니다. 따라서 수도는 사람들의 편의를 고려하여 결정된 것이기 때문에, 국가의 중심지와 같은 의미를 담고 있는 것은 아닙니다. 즉, 수도는 단순한 행정편의를 고려한 결정이었던 것입니다.'"
            ]
          },
          "execution_count": 40,
          "metadata": {},
          "output_type": "execute_result"
        }
      ],
      "source": [
        "import os\n",
        "from openai import OpenAI\n",
        "\n",
        "os.environ[\"RUNPOD_API_KEY\"] = \"your_runpod_api_key\"\n",
        "runpod_url = \"runpod_url_key\"\n",
        "openai_api_base = f\"https://api.runpod.ai/v2/{runpod_url}/openai/v1\"\n",
        "\n",
        "client = OpenAI(\n",
        "    api_key=os.environ[\"RUNPOD_API_KEY\"],\n",
        "    base_url=openai_api_base,\n",
        ")\n",
        "\n",
        "chat_response = client.chat.completions.create(\n",
        "    model=\"daje/meta-llama3.1-8B-qna-koalpaca-v1.1\",\n",
        "    messages=[\n",
        "        {\"role\": \"system\", \"content\": \"You are a helpful assistant.\"},\n",
        "        {\"role\": \"user\", \"content\": \"대한민국의 수도는 현재\"},\n",
        "    ]\n",
        ")\n",
        "chat_response.choices[0].message.content"
      ]
    }
  ],
  "metadata": {
    "accelerator": "GPU",
    "colab": {
      "gpuType": "A100",
      "machine_shape": "hm",
      "provenance": []
    },
    "kernelspec": {
      "display_name": "Python 3",
      "name": "python3"
    },
    "language_info": {
      "name": "python"
    },
    "widgets": {
      "application/vnd.jupyter.widget-state+json": {
        "540f58772ebc4067b95aff0869daf87e": {
          "model_module": "@jupyter-widgets/controls",
          "model_module_version": "1.5.0",
          "model_name": "HBoxModel",
          "state": {
            "_dom_classes": [],
            "_model_module": "@jupyter-widgets/controls",
            "_model_module_version": "1.5.0",
            "_model_name": "HBoxModel",
            "_view_count": null,
            "_view_module": "@jupyter-widgets/controls",
            "_view_module_version": "1.5.0",
            "_view_name": "HBoxView",
            "box_style": "",
            "children": [
              "IPY_MODEL_78b4760434ac4e0cafd2d6f0b2db5e7c",
              "IPY_MODEL_65c9c6465fc44f84b50c62bd57fe7cd1",
              "IPY_MODEL_d981fdbb6e8747c99b6925eb2e17eff5"
            ],
            "layout": "IPY_MODEL_a10b8764ba454edf8d15253c9f85885c"
          }
        },
        "65c9c6465fc44f84b50c62bd57fe7cd1": {
          "model_module": "@jupyter-widgets/controls",
          "model_module_version": "1.5.0",
          "model_name": "FloatProgressModel",
          "state": {
            "_dom_classes": [],
            "_model_module": "@jupyter-widgets/controls",
            "_model_module_version": "1.5.0",
            "_model_name": "FloatProgressModel",
            "_view_count": null,
            "_view_module": "@jupyter-widgets/controls",
            "_view_module_version": "1.5.0",
            "_view_name": "ProgressView",
            "bar_style": "success",
            "description": "",
            "description_tooltip": null,
            "layout": "IPY_MODEL_fb6c3ad5518f4d47882f79b223e5aac9",
            "max": 4,
            "min": 0,
            "orientation": "horizontal",
            "style": "IPY_MODEL_84c877893220462f8e6635517c8cee05",
            "value": 4
          }
        },
        "78b4760434ac4e0cafd2d6f0b2db5e7c": {
          "model_module": "@jupyter-widgets/controls",
          "model_module_version": "1.5.0",
          "model_name": "HTMLModel",
          "state": {
            "_dom_classes": [],
            "_model_module": "@jupyter-widgets/controls",
            "_model_module_version": "1.5.0",
            "_model_name": "HTMLModel",
            "_view_count": null,
            "_view_module": "@jupyter-widgets/controls",
            "_view_module_version": "1.5.0",
            "_view_name": "HTMLView",
            "description": "",
            "description_tooltip": null,
            "layout": "IPY_MODEL_ca25f4df7e724be9bd594664c9282336",
            "placeholder": "​",
            "style": "IPY_MODEL_8bed8991af4847ac835871b4e9c0502a",
            "value": ""
          }
        },
        "84c877893220462f8e6635517c8cee05": {
          "model_module": "@jupyter-widgets/controls",
          "model_module_version": "1.5.0",
          "model_name": "ProgressStyleModel",
          "state": {
            "_model_module": "@jupyter-widgets/controls",
            "_model_module_version": "1.5.0",
            "_model_name": "ProgressStyleModel",
            "_view_count": null,
            "_view_module": "@jupyter-widgets/base",
            "_view_module_version": "1.2.0",
            "_view_name": "StyleView",
            "bar_color": null,
            "description_width": ""
          }
        },
        "8bed8991af4847ac835871b4e9c0502a": {
          "model_module": "@jupyter-widgets/controls",
          "model_module_version": "1.5.0",
          "model_name": "DescriptionStyleModel",
          "state": {
            "_model_module": "@jupyter-widgets/controls",
            "_model_module_version": "1.5.0",
            "_model_name": "DescriptionStyleModel",
            "_view_count": null,
            "_view_module": "@jupyter-widgets/base",
            "_view_module_version": "1.2.0",
            "_view_name": "StyleView",
            "description_width": ""
          }
        },
        "9a629bba7ff444f78eee559bff2580a7": {
          "model_module": "@jupyter-widgets/base",
          "model_module_version": "1.2.0",
          "model_name": "LayoutModel",
          "state": {
            "_model_module": "@jupyter-widgets/base",
            "_model_module_version": "1.2.0",
            "_model_name": "LayoutModel",
            "_view_count": null,
            "_view_module": "@jupyter-widgets/base",
            "_view_module_version": "1.2.0",
            "_view_name": "LayoutView",
            "align_content": null,
            "align_items": null,
            "align_self": null,
            "border": null,
            "bottom": null,
            "display": null,
            "flex": null,
            "flex_flow": null,
            "grid_area": null,
            "grid_auto_columns": null,
            "grid_auto_flow": null,
            "grid_auto_rows": null,
            "grid_column": null,
            "grid_gap": null,
            "grid_row": null,
            "grid_template_areas": null,
            "grid_template_columns": null,
            "grid_template_rows": null,
            "height": null,
            "justify_content": null,
            "justify_items": null,
            "left": null,
            "margin": null,
            "max_height": null,
            "max_width": null,
            "min_height": null,
            "min_width": null,
            "object_fit": null,
            "object_position": null,
            "order": null,
            "overflow": null,
            "overflow_x": null,
            "overflow_y": null,
            "padding": null,
            "right": null,
            "top": null,
            "visibility": null,
            "width": null
          }
        },
        "a10b8764ba454edf8d15253c9f85885c": {
          "model_module": "@jupyter-widgets/base",
          "model_module_version": "1.2.0",
          "model_name": "LayoutModel",
          "state": {
            "_model_module": "@jupyter-widgets/base",
            "_model_module_version": "1.2.0",
            "_model_name": "LayoutModel",
            "_view_count": null,
            "_view_module": "@jupyter-widgets/base",
            "_view_module_version": "1.2.0",
            "_view_name": "LayoutView",
            "align_content": null,
            "align_items": null,
            "align_self": null,
            "border": null,
            "bottom": null,
            "display": null,
            "flex": null,
            "flex_flow": null,
            "grid_area": null,
            "grid_auto_columns": null,
            "grid_auto_flow": null,
            "grid_auto_rows": null,
            "grid_column": null,
            "grid_gap": null,
            "grid_row": null,
            "grid_template_areas": null,
            "grid_template_columns": null,
            "grid_template_rows": null,
            "height": null,
            "justify_content": null,
            "justify_items": null,
            "left": null,
            "margin": null,
            "max_height": null,
            "max_width": null,
            "min_height": null,
            "min_width": null,
            "object_fit": null,
            "object_position": null,
            "order": null,
            "overflow": null,
            "overflow_x": null,
            "overflow_y": null,
            "padding": null,
            "right": null,
            "top": null,
            "visibility": null,
            "width": null
          }
        },
        "c2f3111132d94e0aa2d7cf32398bfb8f": {
          "model_module": "@jupyter-widgets/controls",
          "model_module_version": "1.5.0",
          "model_name": "DescriptionStyleModel",
          "state": {
            "_model_module": "@jupyter-widgets/controls",
            "_model_module_version": "1.5.0",
            "_model_name": "DescriptionStyleModel",
            "_view_count": null,
            "_view_module": "@jupyter-widgets/base",
            "_view_module_version": "1.2.0",
            "_view_name": "StyleView",
            "description_width": ""
          }
        },
        "ca25f4df7e724be9bd594664c9282336": {
          "model_module": "@jupyter-widgets/base",
          "model_module_version": "1.2.0",
          "model_name": "LayoutModel",
          "state": {
            "_model_module": "@jupyter-widgets/base",
            "_model_module_version": "1.2.0",
            "_model_name": "LayoutModel",
            "_view_count": null,
            "_view_module": "@jupyter-widgets/base",
            "_view_module_version": "1.2.0",
            "_view_name": "LayoutView",
            "align_content": null,
            "align_items": null,
            "align_self": null,
            "border": null,
            "bottom": null,
            "display": null,
            "flex": null,
            "flex_flow": null,
            "grid_area": null,
            "grid_auto_columns": null,
            "grid_auto_flow": null,
            "grid_auto_rows": null,
            "grid_column": null,
            "grid_gap": null,
            "grid_row": null,
            "grid_template_areas": null,
            "grid_template_columns": null,
            "grid_template_rows": null,
            "height": null,
            "justify_content": null,
            "justify_items": null,
            "left": null,
            "margin": null,
            "max_height": null,
            "max_width": null,
            "min_height": null,
            "min_width": null,
            "object_fit": null,
            "object_position": null,
            "order": null,
            "overflow": null,
            "overflow_x": null,
            "overflow_y": null,
            "padding": null,
            "right": null,
            "top": null,
            "visibility": null,
            "width": null
          }
        },
        "d981fdbb6e8747c99b6925eb2e17eff5": {
          "model_module": "@jupyter-widgets/controls",
          "model_module_version": "1.5.0",
          "model_name": "HTMLModel",
          "state": {
            "_dom_classes": [],
            "_model_module": "@jupyter-widgets/controls",
            "_model_module_version": "1.5.0",
            "_model_name": "HTMLModel",
            "_view_count": null,
            "_view_module": "@jupyter-widgets/controls",
            "_view_module_version": "1.5.0",
            "_view_name": "HTMLView",
            "description": "",
            "description_tooltip": null,
            "layout": "IPY_MODEL_9a629bba7ff444f78eee559bff2580a7",
            "placeholder": "​",
            "style": "IPY_MODEL_c2f3111132d94e0aa2d7cf32398bfb8f",
            "value": "Loading safetensors checkpoint shards: 100% Completed | 4/4 [00:05&lt;00:00,  1.37s/it]\n"
          }
        },
        "fb6c3ad5518f4d47882f79b223e5aac9": {
          "model_module": "@jupyter-widgets/base",
          "model_module_version": "1.2.0",
          "model_name": "LayoutModel",
          "state": {
            "_model_module": "@jupyter-widgets/base",
            "_model_module_version": "1.2.0",
            "_model_name": "LayoutModel",
            "_view_count": null,
            "_view_module": "@jupyter-widgets/base",
            "_view_module_version": "1.2.0",
            "_view_name": "LayoutView",
            "align_content": null,
            "align_items": null,
            "align_self": null,
            "border": null,
            "bottom": null,
            "display": null,
            "flex": null,
            "flex_flow": null,
            "grid_area": null,
            "grid_auto_columns": null,
            "grid_auto_flow": null,
            "grid_auto_rows": null,
            "grid_column": null,
            "grid_gap": null,
            "grid_row": null,
            "grid_template_areas": null,
            "grid_template_columns": null,
            "grid_template_rows": null,
            "height": null,
            "justify_content": null,
            "justify_items": null,
            "left": null,
            "margin": null,
            "max_height": null,
            "max_width": null,
            "min_height": null,
            "min_width": null,
            "object_fit": null,
            "object_position": null,
            "order": null,
            "overflow": null,
            "overflow_x": null,
            "overflow_y": null,
            "padding": null,
            "right": null,
            "top": null,
            "visibility": null,
            "width": null
          }
        }
      }
    }
  },
  "nbformat": 4,
  "nbformat_minor": 0
}
