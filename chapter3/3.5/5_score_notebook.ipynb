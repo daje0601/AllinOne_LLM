{
 "cells": [
  {
   "cell_type": "code",
   "execution_count": 18,
   "metadata": {},
   "outputs": [
    {
     "data": {
      "text/plain": [
       "(5.329400000000011, 5.31807000000001)"
      ]
     },
     "execution_count": 18,
     "metadata": {},
     "output_type": "execute_result"
    }
   ],
   "source": [
    "import json \n",
    "from glob import glob \n",
    "\n",
    "path = \"./qa_evaluation_results\"\n",
    "\n",
    "path_list = glob(f\"{path}/*\")\n",
    "\n",
    "calculated_average_list = [] \n",
    "model_average_score = [] \n",
    "for path in path_list:\n",
    "    with open(path, \"r\") as file:\n",
    "        data = json.load(file)\n",
    "    \n",
    "    data = data[\"choices\"][0][\"message\"][\"parsed\"]\n",
    "    scores = [item['score'] for item in data.values() if isinstance(item, dict)]\n",
    "    calculated_average = sum(scores) / len(scores)\n",
    "    calculated_average_list.append(calculated_average)\n",
    "    model_average_score.append(data[\"average_score\"])\n",
    "\n",
    "mean_calculated_average= sum(calculated_average_list) / len(calculated_average_list)\n",
    "mean_model_average_score = sum(model_average_score) / len(model_average_score)\n",
    "mean_calculated_average, mean_model_average_score"
   ]
  },
  {
   "cell_type": "code",
   "execution_count": null,
   "metadata": {},
   "outputs": [],
   "source": []
  }
 ],
 "metadata": {
  "kernelspec": {
   "display_name": "vllm",
   "language": "python",
   "name": "python3"
  },
  "language_info": {
   "codemirror_mode": {
    "name": "ipython",
    "version": 3
   },
   "file_extension": ".py",
   "mimetype": "text/x-python",
   "name": "python",
   "nbconvert_exporter": "python",
   "pygments_lexer": "ipython3",
   "version": "3.10.14"
  }
 },
 "nbformat": 4,
 "nbformat_minor": 2
}
