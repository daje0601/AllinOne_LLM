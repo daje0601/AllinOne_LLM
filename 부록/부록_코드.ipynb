{
  "cells": [
    {
      "cell_type": "code",
      "execution_count": 5,
      "metadata": {
        "id": "w2rYzbZWOhmM"
      },
      "outputs": [],
      "source": [
        "import numpy as np\n",
        "\n",
        "def sigmoid(x):\n",
        "    return 1 / (1 + np.exp(-x))\n",
        "\n",
        "def sigmoid_derivative(x):\n",
        "    return x * (1 - x)\n"
      ]
    },
    {
      "cell_type": "code",
      "execution_count": 6,
      "metadata": {
        "id": "V9bL3cTdOhjU"
      },
      "outputs": [],
      "source": [
        "import numpy as np\n",
        "\n",
        "x = np.array([0.3, 0.2])\n",
        "\n",
        "weights = {\n",
        "    'w1': 0.24, 'w2': 0.45, 'w3': 0.60, 'w4': 0.18,\n",
        "    'w5': 0.24, 'w6': 0.45, 'w7': 0.60, 'w8': 0.18\n",
        "}\n"
      ]
    },
    {
      "cell_type": "code",
      "execution_count": 7,
      "metadata": {
        "colab": {
          "base_uri": "https://localhost:8080/"
        },
        "id": "dK29101FOhgf",
        "outputId": "9f1871a1-ea3e-4d07-ef24-db3f8c891430"
      },
      "outputs": [
        {
          "name": "stdout",
          "output_type": "stream",
          "text": [
            "총 오류: 0.02500861317282382\n"
          ]
        }
      ],
      "source": [
        "z1 = weights['w1'] * x[0] + weights['w3'] * x[1]\n",
        "z2 = weights['w2'] * x[0] + weights['w4'] * x[1]\n",
        "h1 = sigmoid(z1)\n",
        "h2 = sigmoid(z2)\n",
        "\n",
        "z3 = weights['w5'] * h1 + weights['w7'] * h2\n",
        "z4 = weights['w6'] * h1 + weights['w8'] * h2\n",
        "o1 = sigmoid(z3)\n",
        "o2 = sigmoid(z4)\n",
        "\n",
        "y = np.array([0.55, 0.80])\n",
        "E1 = 0.5 * (y[0] - o1)**2\n",
        "E2 = 0.5 * (y[1] - o2)**2\n",
        "E_total = E1 + E2\n",
        "\n",
        "print(f\"총 오류: {E_total}\")\n",
        "\n",
        "delta_o1 = (o1 - y[0]) * sigmoid_derivative(o1)\n",
        "delta_o2 = (o2 - y[1]) * sigmoid_derivative(o2)\n",
        "\n",
        "delta_h1 = (delta_o1 * weights['w5'] + delta_o2 * weights['w6']) * sigmoid_derivative(h1)\n",
        "delta_h2 = (delta_o1 * weights['w7'] + delta_o2 * weights['w8']) * sigmoid_derivative(h2)\n",
        "\n",
        "learning_rate = 0.1"
      ]
    },
    {
      "cell_type": "code",
      "execution_count": 8,
      "metadata": {
        "colab": {
          "base_uri": "https://localhost:8080/"
        },
        "id": "0D0F0vwdOhdo",
        "outputId": "6a4c0429-ff1f-4cea-d1de-4d15d028e9ce"
      },
      "outputs": [
        {
          "name": "stdout",
          "output_type": "stream",
          "text": [
            "역전파 후 업데이트된 가중치:\n",
            "w1: 0.2401479664882488\n",
            "w2: 0.45009864432549923\n",
            "w3: 0.6000037859576405\n",
            "w4: 0.1800025239717603\n",
            "w5: 0.2391895247658004\n",
            "w6: 0.4491972277549693\n",
            "w7: 0.6028563506401562\n",
            "w8: 0.18282920306412295\n"
          ]
        }
      ],
      "source": [
        "weights['w5'] -= learning_rate * delta_o1 * h1\n",
        "weights['w6'] -= learning_rate * delta_o1 * h2\n",
        "weights['w7'] -= learning_rate * delta_o2 * h1\n",
        "weights['w8'] -= learning_rate * delta_o2 * h2\n",
        "\n",
        "weights['w1'] -= learning_rate * delta_h1 * x[0]\n",
        "weights['w2'] -= learning_rate * delta_h1 * x[1]\n",
        "weights['w3'] -= learning_rate * delta_h2 * x[0]\n",
        "weights['w4'] -= learning_rate * delta_h2 * x[1]\n",
        "\n",
        "print(\"역전파 후 업데이트된 가중치:\")\n",
        "for key, value in weights.items():\n",
        "    print(f\"{key}: {value}\")\n"
      ]
    },
    {
      "cell_type": "code",
      "execution_count": null,
      "metadata": {
        "id": "xUo-TYFBQMbJ"
      },
      "outputs": [],
      "source": []
    }
  ],
  "metadata": {
    "colab": {
      "provenance": []
    },
    "kernelspec": {
      "display_name": "Python 3",
      "name": "python3"
    },
    "language_info": {
      "name": "python"
    }
  },
  "nbformat": 4,
  "nbformat_minor": 0
}
